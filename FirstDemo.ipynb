{
 "cells": [
  {
   "cell_type": "code",
   "execution_count": 1,
   "id": "1d7c2816",
   "metadata": {},
   "outputs": [],
   "source": [
    "from lightning.ln_wallet import LightningWallet\n",
    "from stream_peer import StreamPeer\n",
    "from video_manager import VideoManager\n",
    "from loguru import logger\n",
    "from settings import *\n",
    "from time import sleep"
   ]
  },
  {
   "cell_type": "code",
   "execution_count": 2,
   "id": "e3c08437",
   "metadata": {},
   "outputs": [],
   "source": [
    "# Initialiaze a LN wallet\n",
    "alice_wallet = LightningWallet(name=\"Alice01\", balance=START_SATS)\n",
    "bob_wallet = LightningWallet(name=\"Bob01\", balance=START_SATS)"
   ]
  },
  {
   "cell_type": "code",
   "execution_count": 3,
   "id": "064e6dff",
   "metadata": {},
   "outputs": [
    {
     "name": "stdout",
     "output_type": "stream",
     "text": [
      "Alice01's wallet:\n",
      "\t Balance: 1 BTC\n"
     ]
    }
   ],
   "source": [
    "print(alice_wallet)"
   ]
  },
  {
   "cell_type": "code",
   "execution_count": 4,
   "id": "bbfe3f0a",
   "metadata": {},
   "outputs": [
    {
     "name": "stderr",
     "output_type": "stream",
     "text": [
      "2021-12-23 18:56:00.787 | DEBUG    | video_manager:__init__:12 - VideoManager > media_folder: ./media/\n"
     ]
    },
    {
     "name": "stdout",
     "output_type": "stream",
     "text": [
      "Video: office (8506118 bytes)\n",
      "{'office': Video: office (8506118 bytes)}\n",
      "VideoManager: \n",
      "[PosixPath('media/office.mp4')]\n"
     ]
    }
   ],
   "source": [
    "# Create a video manager for serve a folder of videos\n",
    "video_manager = VideoManager(MEDIA_FOLDER)\n",
    "print(video_manager)    "
   ]
  },
  {
   "cell_type": "code",
   "execution_count": 5,
   "id": "4c7f8c9a",
   "metadata": {},
   "outputs": [
    {
     "name": "stdout",
     "output_type": "stream",
     "text": [
      "Initialisation of the Node on port: 10000 on node (4c2e68af1ed25f2e011a6089dde3f65b37a4cf090df29639da525605d4243cdfb8cfc3763ba3a6cdc135fa25183de050a3bc61e3c7c7effeeba741e291c84a18)\n",
      "StreamPeer: Bob Started\n",
      "VideoManager:  VideoManager: \n",
      "[PosixPath('media/office.mp4')]\n"
     ]
    }
   ],
   "source": [
    "# Create a server peer to serve \"media\" folder to clients\n",
    "bob = StreamPeer(HOST, PORT, name=\"Bob\")\n",
    "bob.add_lightning_wallet(bob_wallet)\n",
    "bob.add_video_manager(video_manager)    "
   ]
  },
  {
   "cell_type": "code",
   "execution_count": 6,
   "id": "83b0d3c2",
   "metadata": {},
   "outputs": [
    {
     "name": "stdout",
     "output_type": "stream",
     "text": [
      "Initialisation of the Node on port: 10001 on node (9a60f5511934b98f59dbb987688633dfd462480609d2276a0c7847153b91886485c79e4acf5fbd47910c7b7a36113aa44d9d124453a734c0e3b45828cd041d0a)\n",
      "StreamPeer: Alice Started\n"
     ]
    }
   ],
   "source": [
    "# Create a client peer\n",
    "alice = StreamPeer(HOST, PORT + 1, name=\"Alice\")\n",
    "alice.add_lightning_wallet(alice_wallet)"
   ]
  },
  {
   "cell_type": "code",
   "execution_count": 7,
   "id": "5e0da9ba",
   "metadata": {},
   "outputs": [
    {
     "name": "stdout",
     "output_type": "stream",
     "text": [
      "Connected client: Alice with server: 127.0.0.1:10001\n"
     ]
    }
   ],
   "source": [
    "alice.connect_with_node(bob.host, bob.port)\n",
    "print(f\"Connected client: {alice.name} with server: {alice.host}:{alice.port}\")"
   ]
  },
  {
   "cell_type": "code",
   "execution_count": 8,
   "id": "3a0fd9b8",
   "metadata": {},
   "outputs": [
    {
     "name": "stdout",
     "output_type": "stream",
     "text": [
      "Bob RECEIVED MESSAGE: {'cmd': 'LOOK', 'id': '9a60f551'}\n",
      "Bob Command RECEIVED: LOOK\n",
      "Alice RECEIVED MESSAGE: {'cmd': 'MEDIA', 'id': '4c2e68af', 'videos': ['office']}\n",
      "Alice Command RECEIVED: MEDIA\n",
      "\n",
      "Catalog:\n",
      "\n",
      "0 -- > office\n"
     ]
    }
   ],
   "source": [
    "# Start bazar\n",
    "alice.ask_catalog(bob)"
   ]
  },
  {
   "cell_type": "code",
   "execution_count": 9,
   "id": "24f104d5",
   "metadata": {},
   "outputs": [
    {
     "name": "stdout",
     "output_type": "stream",
     "text": [
      "Bob RECEIVED MESSAGE: {'cmd': 'ASK_MEDIA', 'id': '9a60f551', 'video': 'office', 'auth': '@macaroon'}\n",
      "Bob Command RECEIVED: ASK_MEDIA\n",
      "Alice RECEIVED MESSAGE: {'cmd': 'OK_MEDIA', 'id': '4c2e68af', 'video': 'office', 'invoice': 'LN_1002'}\n",
      "Alice Command RECEIVED: OK_MEDIA\n",
      "Alice PAID INVOICE: LN_1002\n",
      "Bob RECEIVED MESSAGE: {'cmd': 'START_SEND', 'id': '9a60f551', 'video': 'office', 'invoice': 'LN_1002'}\n",
      "Bob Command RECEIVED: START_SEND\n",
      "\n",
      "Bob RECEIVED START STREAMING\n",
      " {'cmd': 'START_SEND', 'id': '9a60f551', 'video': 'office', 'invoice': 'LN_1002'}\n",
      "Bob RECEIVED INVOICE: LN_1002\n",
      "Bob INVOICE IS VALID\n",
      "Bob videos are: {'office': Video: office (8506118 bytes)}\n",
      "Bob video REQUESTED is: office\n",
      "Bob VIDEO: Video: office (8506118 bytes)\n",
      "Bob STARTING STREAMING: office\n",
      "Bob generated new: LN_1004\n",
      "Bob SENDING BATCH: {'cmd': 'BATCH', 'id': '4c2e68af', 'index': 1, 'frame': array([[0.8084809 , 0.66848714, 0.53810319, ..., 0.09679331, 0.3668148 ,\n",
      "        0.34375021],\n",
      "       [0.93523539, 0.77743429, 0.93858156, ..., 0.37540139, 0.43560137,\n",
      "        0.51005708],\n",
      "       [0.84927728, 0.90055958, 0.9310741 , ..., 0.91881608, 0.80996674,\n",
      "        0.60543854],\n",
      "       ...,\n",
      "       [0.28199104, 0.67479021, 0.06648754, ..., 0.08498671, 0.40468093,\n",
      "        0.13941619],\n",
      "       [0.6169715 , 0.5852594 , 0.88019646, ..., 0.6876763 , 0.13877631,\n",
      "        0.42572309],\n",
      "       [0.12994057, 0.74089861, 0.88286834, ..., 0.49234665, 0.78127798,\n",
      "        0.56092334]])}\n",
      "Bob generated new: LN_1006\n",
      "Bob SENDING BATCH: {'cmd': 'BATCH', 'id': '4c2e68af', 'index': 2, 'frame': array([[0.19133139, 0.76863656, 0.99352467, ..., 0.90994624, 0.35746283,\n",
      "        0.24398807],\n",
      "       [0.57319469, 0.27507191, 0.89680622, ..., 0.73153205, 0.72669727,\n",
      "        0.72079054],\n",
      "       [0.39267136, 0.63494869, 0.40459961, ..., 0.67917474, 0.9197372 ,\n",
      "        0.11894797],\n",
      "       ...,\n",
      "       [0.97123901, 0.57022961, 0.55355288, ..., 0.80425946, 0.86665418,\n",
      "        0.32900668],\n",
      "       [0.54042832, 0.43146805, 0.02528251, ..., 0.32230482, 0.50738609,\n",
      "        0.50186859],\n",
      "       [0.10327721, 0.25724829, 0.13605524, ..., 0.05132014, 0.77139091,\n",
      "        0.88177136]])}\n",
      "Bob generated new: LN_1008\n",
      "Bob SENDING BATCH: {'cmd': 'BATCH', 'id': '4c2e68af', 'index': 3, 'frame': array([[0.84141649, 0.40162038, 0.51234933, ..., 0.32531715, 0.75097644,\n",
      "        0.07570274],\n",
      "       [0.18066894, 0.55461612, 0.15028995, ..., 0.43529356, 0.42812537,\n",
      "        0.73119233],\n",
      "       [0.60435574, 0.94286777, 0.58516109, ..., 0.40170568, 0.43988434,\n",
      "        0.09387939],\n",
      "       ...,\n",
      "       [0.36095995, 0.47122331, 0.31376213, ..., 0.74037746, 0.89814054,\n",
      "        0.55607718],\n",
      "       [0.91114092, 0.74429052, 0.08238303, ..., 0.55537301, 0.52807588,\n",
      "        0.59881665],\n",
      "       [0.74166791, 0.19868849, 0.22841941, ..., 0.46734507, 0.84688289,\n",
      "        0.60374013]])}\n",
      "Bob generated new: LN_1010\n",
      "Bob SENDING BATCH: {'cmd': 'BATCH', 'id': '4c2e68af', 'index': 4, 'frame': array([[0.05607881, 0.82365335, 0.82162932, ..., 0.77772407, 0.14352152,\n",
      "        0.05916599],\n",
      "       [0.35890475, 0.02115824, 0.39998332, ..., 0.02338047, 0.43619766,\n",
      "        0.28428831],\n",
      "       [0.67861804, 0.54329165, 0.40771197, ..., 0.3762873 , 0.08175024,\n",
      "        0.881843  ],\n",
      "       ...,\n",
      "       [0.5405406 , 0.10543359, 0.48485144, ..., 0.96533691, 0.2584932 ,\n",
      "        0.2967026 ],\n",
      "       [0.21306785, 0.07328509, 0.67879641, ..., 0.3414066 , 0.46821607,\n",
      "        0.7064294 ],\n",
      "       [0.60155445, 0.9276159 , 0.85317789, ..., 0.44661943, 0.34800002,\n",
      "        0.82217492]])}\n",
      "Bob generated new: LN_1012\n",
      "Bob SENDING BATCH: {'cmd': 'BATCH', 'id': '4c2e68af', 'index': 5, 'frame': array([[0.28047727, 0.15779132, 0.97755854, ..., 0.82231559, 0.09355217,\n",
      "        0.36835061],\n",
      "       [0.35862886, 0.8302321 , 0.82197968, ..., 0.506018  , 0.06364439,\n",
      "        0.22628093],\n",
      "       [0.36168523, 0.26634604, 0.46558091, ..., 0.93237387, 0.63817962,\n",
      "        0.01224839],\n",
      "       ...,\n",
      "       [0.32180352, 0.10980017, 0.10037917, ..., 0.89994035, 0.37926437,\n",
      "        0.00680953],\n",
      "       [0.0882419 , 0.72143745, 0.10434856, ..., 0.54665484, 0.80215836,\n",
      "        0.29391098],\n",
      "       [0.12690677, 0.65561284, 0.57233063, ..., 0.63200181, 0.90020108,\n",
      "        0.95589069]])}\n"
     ]
    }
   ],
   "source": [
    "alice.ask_media_streaming(bob, \"office\")\n",
    "sleep(1)\n"
   ]
  }
 ],
 "metadata": {
  "kernelspec": {
   "display_name": "Python 3 (ipykernel)",
   "language": "python",
   "name": "python3"
  },
  "language_info": {
   "codemirror_mode": {
    "name": "ipython",
    "version": 3
   },
   "file_extension": ".py",
   "mimetype": "text/x-python",
   "name": "python",
   "nbconvert_exporter": "python",
   "pygments_lexer": "ipython3",
   "version": "3.10.0"
  }
 },
 "nbformat": 4,
 "nbformat_minor": 5
}
