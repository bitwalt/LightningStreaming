{
 "cells": [
  {
   "cell_type": "code",
   "execution_count": 1,
   "id": "9d9b04ad",
   "metadata": {},
   "outputs": [],
   "source": [
    "from lightning.ln_wallet import LightningWallet\n",
    "from stream_peer import StreamPeer\n",
    "from video_manager import VideoManager\n",
    "from loguru import logger\n",
    "from settings import *\n",
    "from time import sleep"
   ]
  },
  {
   "cell_type": "code",
   "execution_count": 3,
   "id": "c8a644ad",
   "metadata": {},
   "outputs": [],
   "source": [
    "# Initialiaze a LN wallet\n",
    "alice_wallet = LightningWallet(name=\"Alice01\", balance=START_SATS)\n",
    "bob_wallet = LightningWallet(name=\"Bob01\", balance=START_SATS)"
   ]
  },
  {
   "cell_type": "code",
   "execution_count": 5,
   "id": "cf1aa574",
   "metadata": {},
   "outputs": [
    {
     "name": "stdout",
     "output_type": "stream",
     "text": [
      "Alice01's wallet:\n",
      "\t Balance: 1 BTC\n"
     ]
    }
   ],
   "source": [
    "print(alice_wallet)"
   ]
  },
  {
   "cell_type": "code",
   "execution_count": 6,
   "id": "d4f0577b",
   "metadata": {},
   "outputs": [
    {
     "name": "stderr",
     "output_type": "stream",
     "text": [
      "2021-12-23 10:01:39.508 | DEBUG    | video_manager:__init__:12 - VideoManager > media_folder: ./media/\n"
     ]
    },
    {
     "name": "stdout",
     "output_type": "stream",
     "text": [
      "Video: office (8506118 bytes)\n",
      "{'office': Video: office (8506118 bytes)}\n",
      "VideoManager: \n",
      "[PosixPath('media/office.mp4')]\n"
     ]
    }
   ],
   "source": [
    "# Create a video manager for serve a folder of videos\n",
    "video_manager = VideoManager(MEDIA_FOLDER)\n",
    "print(video_manager)    "
   ]
  },
  {
   "cell_type": "code",
   "execution_count": 9,
   "id": "b5c40c47",
   "metadata": {},
   "outputs": [
    {
     "name": "stdout",
     "output_type": "stream",
     "text": [
      "Initialisation of the Node on port: 10000 on node (3843ef0f7db82b6fe10fbab5cb6863c4f067cf26b70801ed43305e4fb4880270b4d0d12df47e6f3d0a43aefa3a27af310e8061604aaab976687d8ab9f0963323)\n",
      "StreamPeer: Bob Started\n",
      "VideoManager:  VideoManager: \n",
      "[PosixPath('media/office.mp4')]\n"
     ]
    }
   ],
   "source": [
    "# Create a server peer to serve \"media\" folder to clients\n",
    "bob = StreamPeer(HOST, PORT, name=\"Bob\")\n",
    "bob.add_lightning_wallet(bob_wallet)\n",
    "bob.add_video_manager(video_manager)    "
   ]
  },
  {
   "cell_type": "code",
   "execution_count": 7,
   "id": "8fbaaf47",
   "metadata": {},
   "outputs": [
    {
     "name": "stdout",
     "output_type": "stream",
     "text": [
      "Initialisation of the Node on port: 10001 on node (5b8fb3f85c593ea251a2afdea541ceafd13bce0d150b6d89e281d5b20b84bf4d6db337ea7a2bac14f5d976e5eaa87421602e030376df6938590d0291aa8b053e)\n",
      "StreamPeer: Alice Started\n"
     ]
    }
   ],
   "source": [
    "# Create a client peer\n",
    "alice = StreamPeer(HOST, PORT + 1, name=\"Alice\")\n",
    "alice.add_lightning_wallet(alice_wallet)"
   ]
  },
  {
   "cell_type": "code",
   "execution_count": 10,
   "id": "3c657006",
   "metadata": {},
   "outputs": [
    {
     "name": "stdout",
     "output_type": "stream",
     "text": [
      "Connected client: Alice with server: 127.0.0.1:10001\n"
     ]
    }
   ],
   "source": [
    "alice.connect_with_node(bob.host, bob.port)\n",
    "print(f\"Connected client: {alice.name} with server: {alice.host}:{alice.port}\")"
   ]
  },
  {
   "cell_type": "code",
   "execution_count": 11,
   "id": "96763f72",
   "metadata": {},
   "outputs": [
    {
     "name": "stdout",
     "output_type": "stream",
     "text": [
      "Bob RECEIVED MESSAGE: {'cmd': 'LOOK', 'id': '5b8fb3f8'}\n",
      "Bob Command RECEIVED: LOOK\n",
      "Alice RECEIVED MESSAGE: {'cmd': 'MEDIA', 'id': '3843ef0f', 'videos': ['office']}\n",
      "Alice Command RECEIVED: MEDIA\n",
      "\n",
      "Catalog:\n",
      "\n",
      "0 -- > office\n"
     ]
    }
   ],
   "source": [
    "# Start bazar\n",
    "alice.ask_catalog(bob)"
   ]
  },
  {
   "cell_type": "code",
   "execution_count": null,
   "id": "1d8ecf40",
   "metadata": {},
   "outputs": [],
   "source": [
    "alice.ask_media_streaming(bob, \"office\")\n",
    "sleep(1)\n"
   ]
  }
 ],
 "metadata": {
  "kernelspec": {
   "display_name": "Python 3 (ipykernel)",
   "language": "python",
   "name": "python3"
  },
  "language_info": {
   "codemirror_mode": {
    "name": "ipython",
    "version": 3
   },
   "file_extension": ".py",
   "mimetype": "text/x-python",
   "name": "python",
   "nbconvert_exporter": "python",
   "pygments_lexer": "ipython3",
   "version": "3.10.0"
  }
 },
 "nbformat": 4,
 "nbformat_minor": 5
}
